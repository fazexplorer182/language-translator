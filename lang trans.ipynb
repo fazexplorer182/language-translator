{
 "cells": [
  {
   "cell_type": "code",
   "execution_count": 1,
   "metadata": {},
   "outputs": [],
   "source": [
    "from googletrans import Translator\n",
    "A=Translator()\n",
    "class trans:\n",
    "    def __init__(self):\n",
    "        self.word = input(\"Enter the input word :\")\n",
    "        \n",
    "    def trsl(self):\n",
    "        res = A.translate(self.word)\n",
    "        print(res.text)\n",
    "    def det(self):\n",
    "        res2 = A.detect(self.word)\n",
    "        print(res2)"
   ]
  },
  {
   "cell_type": "code",
   "execution_count": 2,
   "metadata": {},
   "outputs": [
    {
     "name": "stdout",
     "output_type": "stream",
     "text": [
      "Enter the input word :ഞാൻ തിരുവനന്തപുരത്താണ് താമസിക്കുന്നത്\n",
      "\n",
      "    WELCOME TO Language Translator \n",
      "    1)Translate the given language to english\n",
      "    2)Detect the language from the given words\n",
      "    \n",
      "What would you like to do? 1\n",
      "I live in Thiruvananthapuram\n",
      "\n",
      "    WELCOME TO Language Translator \n",
      "    1)Translate the given language to english\n",
      "    2)Detect the language from the given words\n",
      "    \n",
      "What would you like to do? 2\n",
      "Detected(lang=ml, confidence=1.0)\n"
     ]
    }
   ],
   "source": [
    "test = trans()\n",
    "check = True\n",
    "while check:\n",
    "    print (\"\"\"\n",
    "    WELCOME TO Language Translator \n",
    "    1)Translate the given language to english\n",
    "    2)Detect the language from the given words\n",
    "    \"\"\")\n",
    "    check = int(input(\"What would you like to do? \"))\n",
    "    if check == 1:\n",
    "        test.trsl()\n",
    "        \n",
    "    elif check == 2:\n",
    "        test.det()\n",
    "        break\n",
    "    else:\n",
    "        print(\"Invalid Input\")\n",
    "        break"
   ]
  }
 ],
 "metadata": {
  "kernelspec": {
   "display_name": "Python 3",
   "language": "python",
   "name": "python3"
  },
  "language_info": {
   "codemirror_mode": {
    "name": "ipython",
    "version": 3
   },
   "file_extension": ".py",
   "mimetype": "text/x-python",
   "name": "python",
   "nbconvert_exporter": "python",
   "pygments_lexer": "ipython3",
   "version": "3.8.5"
  }
 },
 "nbformat": 4,
 "nbformat_minor": 4
}
